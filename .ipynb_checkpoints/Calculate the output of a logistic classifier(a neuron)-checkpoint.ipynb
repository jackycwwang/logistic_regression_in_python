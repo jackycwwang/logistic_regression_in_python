{
 "cells": [
  {
   "cell_type": "code",
   "execution_count": 1,
   "id": "3e5a1ac3",
   "metadata": {},
   "outputs": [],
   "source": [
    "import numpy as np"
   ]
  },
  {
   "cell_type": "code",
   "execution_count": 16,
   "id": "38b3ba76",
   "metadata": {},
   "outputs": [],
   "source": [
    "# set up the dimenssion\n",
    "N = 100\n",
    "D = 2\n",
    "\n",
    "# set up our data\n",
    "X = np.random.randn(N, D)\n",
    "\n",
    "# add bias term\n",
    "ones = np.array([[1]*N]).T\n",
    "Xb = np.concatenate((ones, X), axis=1)"
   ]
  },
  {
   "cell_type": "code",
   "execution_count": 17,
   "id": "800f2416",
   "metadata": {},
   "outputs": [],
   "source": [
    "# randomly initialize the weight vector\n",
    "# we don't have any labels yet, we just want to be able to calculate the sigmoid\n",
    "w = np.random.randn(D + 1)"
   ]
  },
  {
   "cell_type": "code",
   "execution_count": 21,
   "id": "ceb54caf",
   "metadata": {},
   "outputs": [
    {
     "data": {
      "text/plain": [
       "(3,)"
      ]
     },
     "execution_count": 21,
     "metadata": {},
     "output_type": "execute_result"
    }
   ],
   "source": [
    "w.shape"
   ]
  },
  {
   "cell_type": "code",
   "execution_count": 23,
   "id": "81a489ae",
   "metadata": {},
   "outputs": [
    {
     "data": {
      "text/plain": [
       "(100, 3)"
      ]
     },
     "execution_count": 23,
     "metadata": {},
     "output_type": "execute_result"
    }
   ],
   "source": [
    "Xb.shape"
   ]
  },
  {
   "cell_type": "code",
   "execution_count": 25,
   "id": "996b4ae2",
   "metadata": {},
   "outputs": [
    {
     "ename": "ValueError",
     "evalue": "shapes (3,) and (100,3) not aligned: 3 (dim 0) != 100 (dim 0)",
     "output_type": "error",
     "traceback": [
      "\u001b[1;31m---------------------------------------------------------------------------\u001b[0m",
      "\u001b[1;31mValueError\u001b[0m                                Traceback (most recent call last)",
      "\u001b[1;32m<ipython-input-25-87585b2ab7b2>\u001b[0m in \u001b[0;36m<module>\u001b[1;34m\u001b[0m\n\u001b[0;32m      1\u001b[0m \u001b[1;31m# calculate the output\u001b[0m\u001b[1;33m\u001b[0m\u001b[1;33m\u001b[0m\u001b[1;33m\u001b[0m\u001b[0m\n\u001b[1;32m----> 2\u001b[1;33m \u001b[0mz\u001b[0m \u001b[1;33m=\u001b[0m \u001b[0mw\u001b[0m\u001b[1;33m.\u001b[0m\u001b[0mdot\u001b[0m\u001b[1;33m(\u001b[0m\u001b[0mXb\u001b[0m\u001b[1;33m)\u001b[0m\u001b[1;33m\u001b[0m\u001b[1;33m\u001b[0m\u001b[0m\n\u001b[0m",
      "\u001b[1;31mValueError\u001b[0m: shapes (3,) and (100,3) not aligned: 3 (dim 0) != 100 (dim 0)"
     ]
    }
   ],
   "source": [
    "# calculate the output\n",
    "# dimension does not match\n",
    "z = w.dot(Xb)"
   ]
  },
  {
   "cell_type": "code",
   "execution_count": 27,
   "id": "e064132c",
   "metadata": {},
   "outputs": [],
   "source": [
    "# dimension must match\n",
    "z = Xb.dot(w)"
   ]
  },
  {
   "cell_type": "code",
   "execution_count": 28,
   "id": "4cb45744",
   "metadata": {},
   "outputs": [],
   "source": [
    "def sigmoid(z):\n",
    "  return 1/(1 + np.exp(-z))"
   ]
  },
  {
   "cell_type": "code",
   "execution_count": 31,
   "id": "a1984a74",
   "metadata": {},
   "outputs": [
    {
     "data": {
      "text/plain": [
       "array([0.76698556, 0.56554558, 0.82639042, 0.7953482 , 0.20532054,\n",
       "       0.86903343, 0.58218661, 0.67461182, 0.06534511, 0.78457729,\n",
       "       0.53655123, 0.61463842, 0.88997093, 0.97524501, 0.79774796,\n",
       "       0.80638248, 0.54277655, 0.51226892, 0.07084841, 0.873909  ,\n",
       "       0.33832128, 0.3121602 , 0.48956993, 0.98290657, 0.6439086 ,\n",
       "       0.11625311, 0.98122564, 0.47976072, 0.75282637, 0.41028586,\n",
       "       0.93457328, 0.34428088, 0.52691181, 0.02488656, 0.71275721,\n",
       "       0.84253733, 0.78986208, 0.9282302 , 0.56315974, 0.74059526,\n",
       "       0.07983085, 0.49319645, 0.14279524, 0.78163189, 0.8085297 ,\n",
       "       0.91892485, 0.06951825, 0.61391613, 0.46773542, 0.8633951 ,\n",
       "       0.95181622, 0.80899725, 0.71888075, 0.34312333, 0.91589353,\n",
       "       0.50775423, 0.33676471, 0.49881323, 0.68138311, 0.54536485,\n",
       "       0.88790948, 0.11058722, 0.541278  , 0.53692561, 0.69675717,\n",
       "       0.60391627, 0.23248868, 0.79593887, 0.10708531, 0.87901588,\n",
       "       0.53919355, 0.5454545 , 0.93619471, 0.65546966, 0.85844608,\n",
       "       0.64204259, 0.18048005, 0.12121559, 0.68320338, 0.83873503,\n",
       "       0.69329557, 0.85811672, 0.63280888, 0.07700482, 0.15105543,\n",
       "       0.70169531, 0.81255043, 0.35622863, 0.74391912, 0.45845934,\n",
       "       0.53868591, 0.27283707, 0.63787206, 0.92942478, 0.59099162,\n",
       "       0.54090763, 0.40648314, 0.01018881, 0.70716   , 0.18376853])"
      ]
     },
     "execution_count": 31,
     "metadata": {},
     "output_type": "execute_result"
    }
   ],
   "source": [
    "# the value is between 0 and 1 as we expected\n",
    "sigmoid(z)"
   ]
  },
  {
   "cell_type": "code",
   "execution_count": null,
   "id": "d153068a",
   "metadata": {},
   "outputs": [],
   "source": []
  }
 ],
 "metadata": {
  "kernelspec": {
   "display_name": "Python 3",
   "language": "python",
   "name": "python3"
  },
  "language_info": {
   "codemirror_mode": {
    "name": "ipython",
    "version": 3
   },
   "file_extension": ".py",
   "mimetype": "text/x-python",
   "name": "python",
   "nbconvert_exporter": "python",
   "pygments_lexer": "ipython3",
   "version": "3.8.10"
  }
 },
 "nbformat": 4,
 "nbformat_minor": 5
}
