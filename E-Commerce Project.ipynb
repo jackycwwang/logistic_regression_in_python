{
 "cells": [
  {
   "cell_type": "markdown",
   "id": "a8fd83d9",
   "metadata": {},
   "source": [
    "# E-Commerce Project"
   ]
  },
  {
   "cell_type": "code",
   "execution_count": null,
   "id": "7173cb3a",
   "metadata": {},
   "outputs": [],
   "source": [
    "import numpy as np\n",
    "import pandas as pd"
   ]
  },
  {
   "cell_type": "code",
   "execution_count": 2,
   "id": "7f22d1fa",
   "metadata": {},
   "outputs": [],
   "source": [
    "df = pd.read_csv('ecommerce_data.csv')"
   ]
  },
  {
   "cell_type": "code",
   "execution_count": 3,
   "id": "0d834085",
   "metadata": {
    "scrolled": true
   },
   "outputs": [
    {
     "data": {
      "text/html": [
       "<div>\n",
       "<style scoped>\n",
       "    .dataframe tbody tr th:only-of-type {\n",
       "        vertical-align: middle;\n",
       "    }\n",
       "\n",
       "    .dataframe tbody tr th {\n",
       "        vertical-align: top;\n",
       "    }\n",
       "\n",
       "    .dataframe thead th {\n",
       "        text-align: right;\n",
       "    }\n",
       "</style>\n",
       "<table border=\"1\" class=\"dataframe\">\n",
       "  <thead>\n",
       "    <tr style=\"text-align: right;\">\n",
       "      <th></th>\n",
       "      <th>is_mobile</th>\n",
       "      <th>n_products_viewed</th>\n",
       "      <th>visit_duration</th>\n",
       "      <th>is_returning_visitor</th>\n",
       "      <th>time_of_day</th>\n",
       "      <th>user_action</th>\n",
       "    </tr>\n",
       "  </thead>\n",
       "  <tbody>\n",
       "    <tr>\n",
       "      <th>0</th>\n",
       "      <td>1</td>\n",
       "      <td>0</td>\n",
       "      <td>0.657510</td>\n",
       "      <td>0</td>\n",
       "      <td>3</td>\n",
       "      <td>0</td>\n",
       "    </tr>\n",
       "    <tr>\n",
       "      <th>1</th>\n",
       "      <td>1</td>\n",
       "      <td>1</td>\n",
       "      <td>0.568571</td>\n",
       "      <td>0</td>\n",
       "      <td>2</td>\n",
       "      <td>1</td>\n",
       "    </tr>\n",
       "    <tr>\n",
       "      <th>2</th>\n",
       "      <td>1</td>\n",
       "      <td>0</td>\n",
       "      <td>0.042246</td>\n",
       "      <td>1</td>\n",
       "      <td>1</td>\n",
       "      <td>0</td>\n",
       "    </tr>\n",
       "    <tr>\n",
       "      <th>3</th>\n",
       "      <td>1</td>\n",
       "      <td>1</td>\n",
       "      <td>1.659793</td>\n",
       "      <td>1</td>\n",
       "      <td>1</td>\n",
       "      <td>2</td>\n",
       "    </tr>\n",
       "    <tr>\n",
       "      <th>4</th>\n",
       "      <td>0</td>\n",
       "      <td>1</td>\n",
       "      <td>2.014745</td>\n",
       "      <td>1</td>\n",
       "      <td>1</td>\n",
       "      <td>2</td>\n",
       "    </tr>\n",
       "  </tbody>\n",
       "</table>\n",
       "</div>"
      ],
      "text/plain": [
       "   is_mobile  n_products_viewed  visit_duration  is_returning_visitor  \\\n",
       "0          1                  0        0.657510                     0   \n",
       "1          1                  1        0.568571                     0   \n",
       "2          1                  0        0.042246                     1   \n",
       "3          1                  1        1.659793                     1   \n",
       "4          0                  1        2.014745                     1   \n",
       "\n",
       "   time_of_day  user_action  \n",
       "0            3            0  \n",
       "1            2            1  \n",
       "2            1            0  \n",
       "3            1            2  \n",
       "4            1            2  "
      ]
     },
     "execution_count": 3,
     "metadata": {},
     "output_type": "execute_result"
    }
   ],
   "source": [
    "df.head()"
   ]
  },
  {
   "cell_type": "markdown",
   "id": "9ac26c4f",
   "metadata": {},
   "source": [
    "## Preprocessing the data"
   ]
  },
  {
   "cell_type": "code",
   "execution_count": 4,
   "id": "189a2f89",
   "metadata": {},
   "outputs": [],
   "source": [
    "def get_data():\n",
    "    df = pd.read_csv('ecommerce_data.csv')  # load the data\n",
    "    data = pd.as_matrix() # convert the dataframe to numpy array, easy to work with\n",
    "    \n",
    "    X = data[:, :-1]  # extract the data\n",
    "    Y = data[:, -1]   # extract the label\n",
    "    \n",
    "    # normalize the numerical columns (z = (x - mu) / sigma)\n",
    "    X[:, 1] = (X[:, 1] - X[:, 1].mean()) / X[:, 1].std()   # for n_products_viewed column\n",
    "    X[:, 2] = (X[:, 2] - X[:, 2].mean()) / X[:, 2].std()   # for visit_duration column\n",
    "    \n",
    "    # account for the categorical column -- time_of_day\n",
    "    # encode with One-Hot encoding\n",
    "    # there are 4 different categorical values 0,1,2,3\n",
    "    N, D = X.shape\n",
    "    X2 = np.zeros((N, D+3))          # create 4 new columns    \n",
    "    X2[:, 0:(D-1)] = X[:, 0:(D-1)]   # copy the values except the last column\n",
    "    \n",
    "    # encode the variable with a loop\n",
    "    for n in range(N):\n",
    "        t = int(X[n, D-1])   # get the categorical value, cast to integer\n",
    "        X2[n, t+D-1] = 1     # set the corresponding row and the column with 1\n",
    "    \n",
    "    # another way to encode\n",
    "    Z = np.zeros((N, 4))                              # create an N by 4 zeros arrays\n",
    "    Z[np.arange(N), X[:, D-1].astype(np.int32)] = 1   # index Z directly, set the position with 1\n",
    "    # X2[:, -4:] = Z                                  # copy to X2 the last 4 columns\n",
    "    \n",
    "    # test if the difference is very small (which means they are the same)\n",
    "    assert(np.abs(X2[:, -4:] - Z).sum() < 10e-10)\n",
    "    \n",
    "    return X2, Y\n",
    "    "
   ]
  },
  {
   "cell_type": "code",
   "execution_count": null,
   "id": "1f46ae4e",
   "metadata": {},
   "outputs": [],
   "source": [
    "# for logistic class, we only want binary data, so we don't want the full dataset\n",
    "def get_binary_data():\n",
    "    X, Y = get_data()\n",
    "    X2 = X[Y <= 1]   # get the data, where Y is 0 or 1\n",
    "    Y2 = Y[Y <= 1]   # get the label, where Y is 0 or 1    \n",
    "    return X2, Y2    "
   ]
  }
 ],
 "metadata": {
  "kernelspec": {
   "display_name": "Python 3",
   "language": "python",
   "name": "python3"
  },
  "language_info": {
   "codemirror_mode": {
    "name": "ipython",
    "version": 3
   },
   "file_extension": ".py",
   "mimetype": "text/x-python",
   "name": "python",
   "nbconvert_exporter": "python",
   "pygments_lexer": "ipython3",
   "version": "3.8.10"
  }
 },
 "nbformat": 4,
 "nbformat_minor": 5
}
